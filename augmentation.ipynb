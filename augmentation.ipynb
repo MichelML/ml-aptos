{
 "cells": [
  {
   "cell_type": "markdown",
   "metadata": {},
   "source": [
    "Augmentation performed based on https://arxiv.org/pdf/1812.10595.pdf"
   ]
  },
  {
   "cell_type": "code",
   "execution_count": 1,
   "metadata": {
    "_cell_guid": "b1076dfc-b9ad-4769-8c92-a6c4dae69d19",
    "_kg_hide-input": true,
    "_uuid": "8f2839f25d086af736a60e9eeb907d3b93b6e0e5"
   },
   "outputs": [
    {
     "name": "stdout",
     "output_type": "stream",
     "text": [
      "['retinopathy-train-2015', 'lost+found', 'aptosplus', 'diabetic-retinopathy-resized', 'aptos2019-blindness-detection', 'resnet101.pth']\n"
     ]
    }
   ],
   "source": [
    "# This Python 3 environment comes with many helpful analytics libraries installed\n",
    "# It is defined by the kaggle/python docker image: https://github.com/kaggle/docker-python\n",
    "# For example, here's several helpful packages to load in \n",
    "\n",
    "import numpy as np # linear algebra\n",
    "import pandas as pd # data processing, CSV file I/O (e.g. pd.read_csv)\n",
    "\n",
    "\n",
    "# Input data files are available in the \"../input/\" directory.\n",
    "# For example, running this (by clicking run or pressing Shift+Enter) will list the files in the input directory\n",
    "\n",
    "import os\n",
    "print(os.listdir(\"/storage\"))\n",
    "\n",
    "# Any results you write to the current directory are saved as output."
   ]
  },
  {
   "cell_type": "code",
   "execution_count": 2,
   "metadata": {
    "_cell_guid": "79c7e3d0-c299-4dcb-8224-4455121ee9b0",
    "_kg_hide-input": true,
    "_uuid": "d629ff2d2480ee46fbb7e2d37f6b5fab8052498a"
   },
   "outputs": [],
   "source": [
    "import os, sys\n",
    "import re\n",
    "from multiprocessing import Pool\n",
    "import numpy as np\n",
    "import pandas as pd\n",
    "import matplotlib.pyplot as plt\n",
    "import skimage.io\n",
    "from skimage.transform import resize\n",
    "from scipy import ndimage\n",
    "from imgaug import augmenters as iaa\n",
    "from tqdm import tqdm\n",
    "import PIL\n",
    "from PIL import Image, ImageOps\n",
    "import cv2\n",
    "from sklearn.utils import class_weight, shuffle\n",
    "from sklearn.metrics import f1_score, fbeta_score\n",
    "from sklearn.model_selection import train_test_split\n",
    "import seaborn as sns\n",
    "from collections import Counter\n",
    "import imageio\n",
    "\n",
    "from torchvision.transforms import transforms\n",
    "\n",
    "WORKERS = 2\n",
    "CHANNEL = 3\n",
    "\n",
    "import warnings\n",
    "warnings.filterwarnings(\"ignore\")\n",
    "IMG_SIZE = 512\n",
    "NUM_CLASSES = 5\n",
    "SEED = 77\n",
    "TRAIN_NUM = 1000 # use 1000 when you just want to explore new idea, use -1 for full train"
   ]
  },
  {
   "cell_type": "code",
   "execution_count": 3,
   "metadata": {},
   "outputs": [],
   "source": [
    "df_train = pd.read_csv('/storage/aptosplus/trainLabels.csv')"
   ]
  },
  {
   "cell_type": "code",
   "execution_count": 4,
   "metadata": {},
   "outputs": [
    {
     "data": {
      "text/html": [
       "<div>\n",
       "<style scoped>\n",
       "    .dataframe tbody tr th:only-of-type {\n",
       "        vertical-align: middle;\n",
       "    }\n",
       "\n",
       "    .dataframe tbody tr th {\n",
       "        vertical-align: top;\n",
       "    }\n",
       "\n",
       "    .dataframe thead tr th {\n",
       "        text-align: left;\n",
       "    }\n",
       "\n",
       "    .dataframe thead tr:last-of-type th {\n",
       "        text-align: right;\n",
       "    }\n",
       "</style>\n",
       "<table border=\"1\" class=\"dataframe\">\n",
       "  <thead>\n",
       "    <tr>\n",
       "      <th></th>\n",
       "      <th>id_code</th>\n",
       "      <th>ds</th>\n",
       "    </tr>\n",
       "    <tr>\n",
       "      <th></th>\n",
       "      <th>count</th>\n",
       "      <th>count</th>\n",
       "    </tr>\n",
       "    <tr>\n",
       "      <th>diagnosis</th>\n",
       "      <th></th>\n",
       "      <th></th>\n",
       "    </tr>\n",
       "  </thead>\n",
       "  <tbody>\n",
       "    <tr>\n",
       "      <th>0</th>\n",
       "      <td>27615</td>\n",
       "      <td>27615</td>\n",
       "    </tr>\n",
       "    <tr>\n",
       "      <th>1</th>\n",
       "      <td>2813</td>\n",
       "      <td>2813</td>\n",
       "    </tr>\n",
       "    <tr>\n",
       "      <th>2</th>\n",
       "      <td>6291</td>\n",
       "      <td>6291</td>\n",
       "    </tr>\n",
       "    <tr>\n",
       "      <th>3</th>\n",
       "      <td>1066</td>\n",
       "      <td>1066</td>\n",
       "    </tr>\n",
       "    <tr>\n",
       "      <th>4</th>\n",
       "      <td>1003</td>\n",
       "      <td>1003</td>\n",
       "    </tr>\n",
       "  </tbody>\n",
       "</table>\n",
       "</div>"
      ],
      "text/plain": [
       "          id_code     ds\n",
       "            count  count\n",
       "diagnosis               \n",
       "0           27615  27615\n",
       "1            2813   2813\n",
       "2            6291   6291\n",
       "3            1066   1066\n",
       "4            1003   1003"
      ]
     },
     "execution_count": 4,
     "metadata": {},
     "output_type": "execute_result"
    }
   ],
   "source": [
    "df_train.groupby('diagnosis').agg(['count'])"
   ]
  },
  {
   "cell_type": "code",
   "execution_count": 5,
   "metadata": {},
   "outputs": [
    {
     "data": {
      "text/html": [
       "<div>\n",
       "<style scoped>\n",
       "    .dataframe tbody tr th:only-of-type {\n",
       "        vertical-align: middle;\n",
       "    }\n",
       "\n",
       "    .dataframe tbody tr th {\n",
       "        vertical-align: top;\n",
       "    }\n",
       "\n",
       "    .dataframe thead th {\n",
       "        text-align: right;\n",
       "    }\n",
       "</style>\n",
       "<table border=\"1\" class=\"dataframe\">\n",
       "  <thead>\n",
       "    <tr style=\"text-align: right;\">\n",
       "      <th></th>\n",
       "      <th>id_code</th>\n",
       "      <th>diagnosis</th>\n",
       "      <th>ds</th>\n",
       "    </tr>\n",
       "  </thead>\n",
       "  <tbody>\n",
       "    <tr>\n",
       "      <th>38783</th>\n",
       "      <td>44347_right</td>\n",
       "      <td>0</td>\n",
       "      <td>eyepacs</td>\n",
       "    </tr>\n",
       "    <tr>\n",
       "      <th>38784</th>\n",
       "      <td>44348_left</td>\n",
       "      <td>0</td>\n",
       "      <td>eyepacs</td>\n",
       "    </tr>\n",
       "    <tr>\n",
       "      <th>38785</th>\n",
       "      <td>44348_right</td>\n",
       "      <td>0</td>\n",
       "      <td>eyepacs</td>\n",
       "    </tr>\n",
       "    <tr>\n",
       "      <th>38786</th>\n",
       "      <td>44349_left</td>\n",
       "      <td>0</td>\n",
       "      <td>eyepacs</td>\n",
       "    </tr>\n",
       "    <tr>\n",
       "      <th>38787</th>\n",
       "      <td>44349_right</td>\n",
       "      <td>1</td>\n",
       "      <td>eyepacs</td>\n",
       "    </tr>\n",
       "  </tbody>\n",
       "</table>\n",
       "</div>"
      ],
      "text/plain": [
       "           id_code  diagnosis       ds\n",
       "38783  44347_right          0  eyepacs\n",
       "38784   44348_left          0  eyepacs\n",
       "38785  44348_right          0  eyepacs\n",
       "38786   44349_left          0  eyepacs\n",
       "38787  44349_right          1  eyepacs"
      ]
     },
     "execution_count": 5,
     "metadata": {},
     "output_type": "execute_result"
    }
   ],
   "source": [
    "df_train.tail()"
   ]
  },
  {
   "cell_type": "markdown",
   "metadata": {},
   "source": [
    "1 augmentation == 1 extra image\n",
    "\n",
    "if d == 0 0 augmentations   \n",
    "\n",
    "if d == 1 10 transformations  \n",
    "\n",
    "if d == 2 4 transformations    \n",
    "\n",
    "if d == 3 25 transformations  \n",
    "\n",
    "if d == 4 25 transformations  \n"
   ]
  },
  {
   "cell_type": "code",
   "execution_count": 6,
   "metadata": {},
   "outputs": [],
   "source": [
    "n_augmentation_dict = {\n",
    "    0:0,\n",
    "    1:10,\n",
    "    2:4,\n",
    "    3:25,\n",
    "    4:25\n",
    "}"
   ]
  },
  {
   "cell_type": "markdown",
   "metadata": {},
   "source": [
    "### csv"
   ]
  },
  {
   "cell_type": "code",
   "execution_count": 9,
   "metadata": {},
   "outputs": [],
   "source": [
    "def add_aug_rows(packed_args):\n",
    "    i, row = packed_args\n",
    "\n",
    "    augs = []\n",
    "    \n",
    "    for nth_aug in range(n_augmentation_dict[row['diagnosis']]):\n",
    "        augs += [{'id_code': f'{row[\"id_code\"]}_a{nth_aug}', 'diagnosis': row[\"diagnosis\"], 'ds': row[\"ds\"]}]\n",
    "    \n",
    "    return augs"
   ]
  },
  {
   "cell_type": "code",
   "execution_count": 10,
   "metadata": {},
   "outputs": [
    {
     "name": "stdout",
     "output_type": "stream",
     "text": [
      "CPU times: user 7.31 s, sys: 164 ms, total: 7.47 s\n",
      "Wall time: 7.6 s\n"
     ]
    }
   ],
   "source": [
    "%%time\n",
    "\n",
    "pool = Pool()                   \n",
    "\n",
    "augmentations = pool.map(add_aug_rows, df_train.iterrows())"
   ]
  },
  {
   "cell_type": "code",
   "execution_count": 13,
   "metadata": {},
   "outputs": [],
   "source": [
    "augmentations = [item for sublist in augmentations for item in sublist]"
   ]
  },
  {
   "cell_type": "code",
   "execution_count": 18,
   "metadata": {},
   "outputs": [],
   "source": [
    "df_train_aug = df_train.copy()"
   ]
  },
  {
   "cell_type": "code",
   "execution_count": 19,
   "metadata": {},
   "outputs": [],
   "source": [
    "df_train_aug = df_train_aug.append(augmentations)"
   ]
  },
  {
   "cell_type": "code",
   "execution_count": 20,
   "metadata": {},
   "outputs": [
    {
     "data": {
      "text/html": [
       "<div>\n",
       "<style scoped>\n",
       "    .dataframe tbody tr th:only-of-type {\n",
       "        vertical-align: middle;\n",
       "    }\n",
       "\n",
       "    .dataframe tbody tr th {\n",
       "        vertical-align: top;\n",
       "    }\n",
       "\n",
       "    .dataframe thead th {\n",
       "        text-align: right;\n",
       "    }\n",
       "</style>\n",
       "<table border=\"1\" class=\"dataframe\">\n",
       "  <thead>\n",
       "    <tr style=\"text-align: right;\">\n",
       "      <th></th>\n",
       "      <th>id_code</th>\n",
       "      <th>diagnosis</th>\n",
       "      <th>ds</th>\n",
       "    </tr>\n",
       "  </thead>\n",
       "  <tbody>\n",
       "    <tr>\n",
       "      <th>105014</th>\n",
       "      <td>44349_right_a5</td>\n",
       "      <td>1</td>\n",
       "      <td>eyepacs</td>\n",
       "    </tr>\n",
       "    <tr>\n",
       "      <th>105015</th>\n",
       "      <td>44349_right_a6</td>\n",
       "      <td>1</td>\n",
       "      <td>eyepacs</td>\n",
       "    </tr>\n",
       "    <tr>\n",
       "      <th>105016</th>\n",
       "      <td>44349_right_a7</td>\n",
       "      <td>1</td>\n",
       "      <td>eyepacs</td>\n",
       "    </tr>\n",
       "    <tr>\n",
       "      <th>105017</th>\n",
       "      <td>44349_right_a8</td>\n",
       "      <td>1</td>\n",
       "      <td>eyepacs</td>\n",
       "    </tr>\n",
       "    <tr>\n",
       "      <th>105018</th>\n",
       "      <td>44349_right_a9</td>\n",
       "      <td>1</td>\n",
       "      <td>eyepacs</td>\n",
       "    </tr>\n",
       "  </tbody>\n",
       "</table>\n",
       "</div>"
      ],
      "text/plain": [
       "               id_code  diagnosis       ds\n",
       "105014  44349_right_a5          1  eyepacs\n",
       "105015  44349_right_a6          1  eyepacs\n",
       "105016  44349_right_a7          1  eyepacs\n",
       "105017  44349_right_a8          1  eyepacs\n",
       "105018  44349_right_a9          1  eyepacs"
      ]
     },
     "execution_count": 20,
     "metadata": {},
     "output_type": "execute_result"
    }
   ],
   "source": [
    "df_train_aug.tail()"
   ]
  },
  {
   "cell_type": "code",
   "execution_count": 23,
   "metadata": {},
   "outputs": [
    {
     "name": "stdout",
     "output_type": "stream",
     "text": [
      "aptos  eyepacs\ttrainLabels.csv\r\n"
     ]
    }
   ],
   "source": [
    "!ls /storage/aptosplus"
   ]
  },
  {
   "cell_type": "code",
   "execution_count": 24,
   "metadata": {},
   "outputs": [],
   "source": [
    "df_train_aug.to_csv('/storage/aptosplus/trainLabels_aug.csv', index=False)"
   ]
  },
  {
   "cell_type": "markdown",
   "metadata": {},
   "source": [
    "### images"
   ]
  },
  {
   "cell_type": "code",
   "execution_count": 7,
   "metadata": {},
   "outputs": [],
   "source": [
    "jitter=(0.6, 1.4)\n",
    "\n",
    "transform = transforms.Compose([\n",
    "        transforms.RandomResizedCrop(448, scale=(0.85, 0.95)),\n",
    "        transforms.ColorJitter(brightness=jitter, contrast=jitter, saturation=jitter, hue=.1),\n",
    "        transforms.RandomHorizontalFlip(p=0.5),\n",
    "        transforms.RandomVerticalFlip(p=0.5),\n",
    "        transforms.RandomAffine((0, 360), shear=(20, 200), scale=(1/1.3, 1.3), translate=(25/512, 25/512))\n",
    "#         transforms.Normalize(mean=(123.68, 116.779, 103.939), std=(58.393, 57.12, 57.375))\n",
    "    ])\n",
    "\n",
    "def add_aug_images(packed_args):\n",
    "    i, row = packed_args\n",
    "    \n",
    "    for nth_aug in range(n_augmentation_dict[row['diagnosis']]):\n",
    "        image = None\n",
    "        \n",
    "        if row['ds'] == 'aptos':\n",
    "            with Image.open(f'/storage/aptosplus/aptos/{row[\"id_code\"]}.png') as img:\n",
    "                image = transform(img)\n",
    "                image.save(f'/storage/aptosplus/aptos/{row[\"id_code\"]}_a{nth_aug}.png')\n",
    "        else:\n",
    "            with Image.open(f'/storage/aptosplus/eyepacs/{row[\"id_code\"]}.png') as img:\n",
    "                image = transform(img)\n",
    "                image.save(f'/storage/aptosplus/eyepacs/{row[\"id_code\"]}_a{nth_aug}.png')   "
   ]
  },
  {
   "cell_type": "code",
   "execution_count": null,
   "metadata": {},
   "outputs": [],
   "source": [
    "%%time\n",
    "\n",
    "pool = Pool()                   \n",
    "pool.map(add_aug_images, df_train.iterrows())"
   ]
  }
 ],
 "metadata": {
  "kernelspec": {
   "display_name": "Python 3",
   "language": "python",
   "name": "python3"
  },
  "language_info": {
   "codemirror_mode": {
    "name": "ipython",
    "version": 3
   },
   "file_extension": ".py",
   "mimetype": "text/x-python",
   "name": "python",
   "nbconvert_exporter": "python",
   "pygments_lexer": "ipython3",
   "version": "3.6.8"
  }
 },
 "nbformat": 4,
 "nbformat_minor": 1
}
